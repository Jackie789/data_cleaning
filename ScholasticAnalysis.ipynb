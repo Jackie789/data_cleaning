{
 "cells": [
  {
   "cell_type": "code",
   "execution_count": 1,
   "metadata": {
    "collapsed": false,
    "deletable": true,
    "editable": true,
    "scrolled": false
   },
   "outputs": [],
   "source": [
    "import pandas as pd\n",
    "import numpy as np\n",
    "import re\n",
    "import sys\n",
    "\n",
    "# File contains the British pound symbol, an alternate encoding needed to be utilized. \n",
    "scholar_file_df = pd.read_csv(\"/Users/jacquelynzuker/dev/Python/WELLCOME/WELLCOME_APCspend2013_forThinkful.csv\", encoding='cp437')\n",
    "df = pd.DataFrame(scholar_file_df)"
   ]
  },
  {
   "cell_type": "code",
   "execution_count": 2,
   "metadata": {
    "collapsed": false
   },
   "outputs": [
    {
     "data": {
      "text/html": [
       "<div>\n",
       "<table border=\"1\" class=\"dataframe\">\n",
       "  <thead>\n",
       "    <tr style=\"text-align: right;\">\n",
       "      <th></th>\n",
       "      <th>PMID/PMCID</th>\n",
       "      <th>Publisher</th>\n",
       "      <th>Journal title</th>\n",
       "      <th>Article title</th>\n",
       "      <th>COST</th>\n",
       "    </tr>\n",
       "  </thead>\n",
       "  <tbody>\n",
       "    <tr>\n",
       "      <th>178</th>\n",
       "      <td>PMC3398262</td>\n",
       "      <td>BioMed Central</td>\n",
       "      <td>BMC Biology</td>\n",
       "      <td>Detailed interrogation of trypanosome cell bio...</td>\n",
       "      <td>1674$</td>\n",
       "    </tr>\n",
       "    <tr>\n",
       "      <th>179</th>\n",
       "      <td>PMID: 24020915 PMC3846689</td>\n",
       "      <td>BioMed Central</td>\n",
       "      <td>BMC Genetics</td>\n",
       "      <td>The physical capability of community-based men...</td>\n",
       "      <td>1375.8$</td>\n",
       "    </tr>\n",
       "    <tr>\n",
       "      <th>180</th>\n",
       "      <td>PMID:23442822</td>\n",
       "      <td>BioMed Central</td>\n",
       "      <td>BMC Genome Biology</td>\n",
       "      <td>Patterns of prokaryotic lateral gene transfers...</td>\n",
       "      <td>2010$</td>\n",
       "    </tr>\n",
       "    <tr>\n",
       "      <th>181</th>\n",
       "      <td>PMC2843621</td>\n",
       "      <td>BioMed Central</td>\n",
       "      <td>BMC Genomics</td>\n",
       "      <td>Trichomonas vaginalis vast BspA-like gene fami...</td>\n",
       "      <td>1204.38$</td>\n",
       "    </tr>\n",
       "    <tr>\n",
       "      <th>182</th>\n",
       "      <td>PMCID:\\n    PMC3636053</td>\n",
       "      <td>BioMed Central</td>\n",
       "      <td>BMC Genomics</td>\n",
       "      <td>Enhancing the utility of Proteomics Signature ...</td>\n",
       "      <td>1254.6$</td>\n",
       "    </tr>\n",
       "    <tr>\n",
       "      <th>183</th>\n",
       "      <td>3526451</td>\n",
       "      <td>Biomed Central</td>\n",
       "      <td>BMC Genomics</td>\n",
       "      <td>Advances in genome-wide RNAi cellular screens:...</td>\n",
       "      <td>1476$</td>\n",
       "    </tr>\n",
       "    <tr>\n",
       "      <th>337</th>\n",
       "      <td>23931322 PMCID: PMC3736666</td>\n",
       "      <td>Byophysical Society</td>\n",
       "      <td>Biophysical Journal</td>\n",
       "      <td>Aggregation modulators interfer with membrane ...</td>\n",
       "      <td>671.04$</td>\n",
       "    </tr>\n",
       "    <tr>\n",
       "      <th>1599</th>\n",
       "      <td>23308065</td>\n",
       "      <td>Public Library of Science</td>\n",
       "      <td>PLOS Pathogens</td>\n",
       "      <td>Transmission of equine influenza virus during ...</td>\n",
       "      <td>1440$</td>\n",
       "    </tr>\n",
       "    <tr>\n",
       "      <th>1600</th>\n",
       "      <td>PMID:23633946</td>\n",
       "      <td>Public Library of Science</td>\n",
       "      <td>PLoS Pathogens</td>\n",
       "      <td>The Mnn2 Mannosyltransferase Family Modulates ...</td>\n",
       "      <td>1460.3$</td>\n",
       "    </tr>\n",
       "    <tr>\n",
       "      <th>1601</th>\n",
       "      <td>PMC3610638</td>\n",
       "      <td>Public Library of Science</td>\n",
       "      <td>PLoS Pathogens</td>\n",
       "      <td>DNA break site at fragile subtelomeres determi...</td>\n",
       "      <td>1476.47$</td>\n",
       "    </tr>\n",
       "    <tr>\n",
       "      <th>1602</th>\n",
       "      <td>PMCID:\\n    PMC3784482\\n</td>\n",
       "      <td>Public Library of Science</td>\n",
       "      <td>PLOS Pathogens</td>\n",
       "      <td>Cross-serotype Immunity Induced by Immunizatio...</td>\n",
       "      <td>1570.87$</td>\n",
       "    </tr>\n",
       "    <tr>\n",
       "      <th>1603</th>\n",
       "      <td>PMCID:\\n    PMC3605240\\n</td>\n",
       "      <td>Public Library of Science</td>\n",
       "      <td>PLoS Pathogens</td>\n",
       "      <td>Genome-wide Determinants of Proviral Targeting...</td>\n",
       "      <td>1600.25$</td>\n",
       "    </tr>\n",
       "    <tr>\n",
       "      <th>1604</th>\n",
       "      <td>PMCID:\\n    PMC3617147</td>\n",
       "      <td>Public Library of Science</td>\n",
       "      <td>PLoS Pathogens</td>\n",
       "      <td>Strongyloidiasis and Infective Dermatitis Alte...</td>\n",
       "      <td>1600.25$</td>\n",
       "    </tr>\n",
       "  </tbody>\n",
       "</table>\n",
       "</div>"
      ],
      "text/plain": [
       "                       PMID/PMCID                  Publisher  \\\n",
       "178                    PMC3398262             BioMed Central   \n",
       "179    PMID: 24020915 PMC3846689              BioMed Central   \n",
       "180                 PMID:23442822             BioMed Central   \n",
       "181                    PMC2843621             BioMed Central   \n",
       "182        PMCID:\\n    PMC3636053             BioMed Central   \n",
       "183                       3526451             Biomed Central   \n",
       "337   23931322 PMCID: PMC3736666         Byophysical Society   \n",
       "1599                     23308065  Public Library of Science   \n",
       "1600                PMID:23633946  Public Library of Science   \n",
       "1601                   PMC3610638  Public Library of Science   \n",
       "1602     PMCID:\\n    PMC3784482\\n  Public Library of Science   \n",
       "1603     PMCID:\\n    PMC3605240\\n  Public Library of Science   \n",
       "1604       PMCID:\\n    PMC3617147  Public Library of Science   \n",
       "\n",
       "            Journal title                                      Article title  \\\n",
       "178           BMC Biology  Detailed interrogation of trypanosome cell bio...   \n",
       "179          BMC Genetics  The physical capability of community-based men...   \n",
       "180    BMC Genome Biology  Patterns of prokaryotic lateral gene transfers...   \n",
       "181          BMC Genomics  Trichomonas vaginalis vast BspA-like gene fami...   \n",
       "182          BMC Genomics  Enhancing the utility of Proteomics Signature ...   \n",
       "183          BMC Genomics  Advances in genome-wide RNAi cellular screens:...   \n",
       "337   Biophysical Journal  Aggregation modulators interfer with membrane ...   \n",
       "1599       PLOS Pathogens  Transmission of equine influenza virus during ...   \n",
       "1600       PLoS Pathogens  The Mnn2 Mannosyltransferase Family Modulates ...   \n",
       "1601       PLoS Pathogens  DNA break site at fragile subtelomeres determi...   \n",
       "1602       PLOS Pathogens  Cross-serotype Immunity Induced by Immunizatio...   \n",
       "1603       PLoS Pathogens  Genome-wide Determinants of Proviral Targeting...   \n",
       "1604       PLoS Pathogens  Strongyloidiasis and Infective Dermatitis Alte...   \n",
       "\n",
       "          COST  \n",
       "178      1674$  \n",
       "179    1375.8$  \n",
       "180      2010$  \n",
       "181   1204.38$  \n",
       "182    1254.6$  \n",
       "183      1476$  \n",
       "337    671.04$  \n",
       "1599     1440$  \n",
       "1600   1460.3$  \n",
       "1601  1476.47$  \n",
       "1602  1570.87$  \n",
       "1603  1600.25$  \n",
       "1604  1600.25$  "
      ]
     },
     "execution_count": 2,
     "metadata": {},
     "output_type": "execute_result"
    }
   ],
   "source": [
    "# Changed the name of the column\n",
    "df[\"COST\"] = df[\"COST (ú) charged to Wellcome (inc VAT when charged)\"]\n",
    "df = df.drop([\"COST (ú) charged to Wellcome (inc VAT when charged)\"],1)\n",
    "df.loc[df[\"COST\"].str.contains(\"\\$\")>0]"
   ]
  },
  {
   "cell_type": "markdown",
   "metadata": {},
   "source": [
    "There are a number of titles where the cost has been inputted in US dollars ($) instead of British Pounds. If any of these titles appear in the top Journals analyzed below, we'll convert the COST into Pounds using the conversion rate of the year this dataset was published. "
   ]
  },
  {
   "cell_type": "code",
   "execution_count": 3,
   "metadata": {
    "collapsed": false,
    "deletable": true,
    "editable": true
   },
   "outputs": [
    {
     "name": "stderr",
     "output_type": "stream",
     "text": [
      "/Library/Frameworks/Python.framework/Versions/3.5/lib/python3.5/site-packages/ipykernel/__main__.py:2: FutureWarning: currently extract(expand=None) means expand=False (return Index/Series/DataFrame) but in a future version of pandas this will be changed to expand=True (return DataFrame)\n",
      "  from ipykernel import kernelapp as app\n"
     ]
    },
    {
     "data": {
      "text/plain": [
       "985"
      ]
     },
     "execution_count": 3,
     "metadata": {},
     "output_type": "execute_result"
    }
   ],
   "source": [
    "# Extracted the numeric value of the cost\n",
    "df[\"COST\"] = df[\"COST\"].str.extract('(\\d+.\\d+)').astype(float)\n",
    "len(df[\"Journal title\"].unique())"
   ]
  },
  {
   "cell_type": "markdown",
   "metadata": {},
   "source": [
    "To start, there are 985 unique Journal Titles. There are differences in capitalization, abbreviation, and spelling present in this dataset. Let's see if we can reduce the number of Journals by reducing these differences. "
   ]
  },
  {
   "cell_type": "code",
   "execution_count": 4,
   "metadata": {
    "collapsed": false,
    "deletable": true,
    "editable": true
   },
   "outputs": [
    {
     "data": {
      "text/plain": [
       "PLOS ONE                                                      190\n",
       "JOURNAL OF BIOLOGICAL CHEMISTRY                                53\n",
       "NEUROIMAGE                                                     29\n",
       "PLOS GENETICS                                                  24\n",
       "PLOS PATHOGENS                                                 24\n",
       "NUCLEIC ACIDS RESEARCH                                         23\n",
       "PROCEEDINGS OF THE NATIONAL ACADEMY OF SCIENCES                20\n",
       "PLOS NEGLECTED TROPICAL DISEASES                               20\n",
       "NATURE COMMUNICATIONS                                          19\n",
       "HUMAN MOLECULAR GENETICS                                       19\n",
       "BMC PUBLIC HEALTH                                              14\n",
       "BRAIN                                                          14\n",
       "MOVEMENT DISORDERS                                             13\n",
       "JOURNAL OF NEUROSCIENCE                                        12\n",
       "BIOCHEMICAL JOURNAL                                            12\n",
       "DEVELOPMENTAL CELL                                             12\n",
       "JOURNAL OF GENERAL VIROLOGY                                    11\n",
       "CURRENT BIOLOGY                                                11\n",
       "BMJ                                                            10\n",
       "PLOS COMPUTATIONAL BIOLOGY                                      9\n",
       "CELL REPORTS                                                    9\n",
       "BMJ OPEN                                                        9\n",
       "PLOSONE                                                         9\n",
       "NEURON                                                          9\n",
       "JOURNAL OF CELL SCIENCE                                         8\n",
       "JOURNAL OF PHYSIOLOGY                                           8\n",
       "HEPATOLOGY                                                      8\n",
       "JOURNAL OF STRUCTURAL BIOLOGY                                   8\n",
       "PROCEEDINGS OF THE ROYAL SOCIETY B: BIOLOGICAL SCIENCES         8\n",
       "JOURNAL OF CLINICAL ENDOCRINOLOGY AND METABOLISM                8\n",
       "                                                             ... \n",
       "REPRODUCTION(CAMBRIDGE, ENGLAND)                                1\n",
       "FRONTIERS IN DEVELOPMENTAL PSYCHOLOGY                           1\n",
       "GENESIS: JOURNAL OF GENETICS                                    1\n",
       "AUTOPHAGY                                                       1\n",
       "NICOTINE AND TOBACO RESEARCH                                    1\n",
       "JOURNAL OF CHEMINFORMATICS                                      1\n",
       "JOURNAL OF BIOLOGICAL PHYSICS                                   1\n",
       "EXPERT REVIEWS IN MOLECULAR MEDICINE                            1\n",
       "EUROPEAN NEUROPSYCHOPHARMACOLOGY                                1\n",
       "BEHAVIOURAL BRAIN RESEARCH                                      1\n",
       "BRITISH MEDICAL BULLETIN                                        1\n",
       "INT J EPIDEMIOL                                                 1\n",
       "JOURNAL OF INTERNAL MEDICINE                                    1\n",
       "BMC PEDIATRICS                                                  1\n",
       "MICROBES INFECT                                                 1\n",
       "PNAS USA                                                        1\n",
       "BMC BIOLOGY                                                     1\n",
       "FUTURE MICROBIOLOGY                                             1\n",
       "AMERICAN JOURNAL OF PREVENTIVE MEDICINE                         1\n",
       "BRAIN STRUCTURE AND FUNCTION                                    1\n",
       "EVOLUTIONARY APPLICATIONS                                       1\n",
       "BRITSH JOURNAL OF PSYCHIATRY                                    1\n",
       "CHEMICAL COMMUNICATION                                          1\n",
       "EUROPEAN CHILD AND ADOLESCENT PSYCHIATRY                        1\n",
       "NEUROPHARMACOLOGY                                               1\n",
       "BIOCHIMICA ET BIOPHYSICA ACTA - MOLECULAR BASIS OF DISEASE      1\n",
       "ANNALS OF HUMAN GENETICS                                        1\n",
       "JOURNAL OF MOLECULAR MEDICINE                                   1\n",
       "GENETICS                                                        1\n",
       "PROCEEDINGS OF THE NATIONAL ACADEMY OF SCIENCES OF THE USA      1\n",
       "Name: Journal title, dtype: int64"
      ]
     },
     "execution_count": 4,
     "metadata": {},
     "output_type": "execute_result"
    }
   ],
   "source": [
    "# Make all of the capitalization identical. \n",
    "df[\"Journal title\"] = df[\"Journal title\"].str.upper()\n",
    "df[\"Journal title\"].value_counts()"
   ]
  },
  {
   "cell_type": "code",
   "execution_count": 5,
   "metadata": {
    "collapsed": false,
    "deletable": true,
    "editable": true,
    "scrolled": true
   },
   "outputs": [
    {
     "data": {
      "text/plain": [
       "PLOS ONE                                                        201\n",
       "JOURNAL BIOLOGICAL CHEMISTRY                                     64\n",
       "PNAS                                                             40\n",
       "NEUROIMAGE                                                       31\n",
       "NUCLEIC ACIDS RESEARCH                                           29\n",
       "PLOS PATHOGENS                                                   24\n",
       "PLOS GENETICS                                                    24\n",
       "PLOS NEGLECTED TROPICAL DISEASE                                  23\n",
       "HUMAN MOLECULAR GENETICS                                         21\n",
       "NATURE COMMUNICATIONS                                            19\n",
       "BMC PUBLIC HEALTH                                                15\n",
       "JOURNAL NEUROSCIENCE                                             15\n",
       "BRAIN                                                            14\n",
       "BIOCHEMICAL JOURNAL                                              14\n",
       "MOVEMENT DISORDERS                                               13\n",
       "BRITISH MEDICAL JOURNAL                                          12\n",
       "DEVELOPMENTAL CELL                                               12\n",
       "CURRENT BIOLOGY                                                  11\n",
       "FASEB JOURNAL                                                    11\n",
       "JOURNAL GENERAL VIROLOGY                                         11\n",
       "MALARIA JOURNAL                                                  10\n",
       "PLOS COMPUTATIONAL BIOLOGY                                       10\n",
       "JOURNAL PHYSIOLOGY                                                9\n",
       "CELL REPORTS                                                      9\n",
       "DEVELOPMENT                                                       9\n",
       "EMBO JOURNAL                                                      9\n",
       "AMERICAN JOURNAL HUMAN GENETICS                                   9\n",
       "NEURON                                                            9\n",
       "JOURNAL VIROLOGY                                                  9\n",
       "BMJOURNAL OPEN                                                    9\n",
       "                                                               ... \n",
       "AGEING SOCIETY                                                    1\n",
       "JOURNAL ACQUIRED IMMUNE DEFICIENCY SYNDROMES                      1\n",
       "ACTA CRYSTALLOGRAPHICA SECTION D: BIOLOGICAL CRYSTALLOGRAPHY      1\n",
       "PROTEIN EXPR PURIF.                                               1\n",
       "OXFORD JOURNALS                                                   1\n",
       "FRONTIERS                                                         1\n",
       "EXPERIMENTAL EYE RESEARCH                                         1\n",
       "PULMONARY PHARMACOLOGY THERAPEUTICS                               1\n",
       "STEM CELLS DEVELOPMENT                                            1\n",
       "BIOMACROMOLECULES                                                 1\n",
       "CENTAURUS                                                         1\n",
       "JOURNAL ANTHROPOLOGICAL ARCHAEOLOGY                               1\n",
       "EXPERIMENTAL CELL RESEARCH                                        1\n",
       "DEVELOPMENT GENES EVOLUTION                                       1\n",
       "ACTA CRYSTALLOGRAPHY D                                            1\n",
       "INTERNATIONAL HEALTH                                              1\n",
       "TROPICAL ANIMAL HEALTH PRODUCTION                                 1\n",
       "MEDICAL ANTHROPOLOGY                                              1\n",
       "HERNIA                                                            1\n",
       "MOLECULAR GENETICS GENOMIC MEDICINE                               1\n",
       "AM JOURNAL TROP MED HYG                                           1\n",
       "CELL TISSUE RESEARCH                                              1\n",
       "VASCULAR PHARMACOLOGY                                             1\n",
       "N BIOTECHNOL.                                                     1\n",
       "CURRENT OPINION MICROBIOLOGY                                      1\n",
       "SGM OPEN OPTION                                                   1\n",
       "JOURNAL STEROID BIOCHEMISTRY MOLECULAR BIOLOGY                    1\n",
       "MOLECULAR PHYLOGENETICS EVOLUTION                                 1\n",
       "FUNGAL BIOLOGY                                                    1\n",
       "ENVIRONMENT PLANNING A                                            1\n",
       "Name: Journal title, dtype: int64"
      ]
     },
     "execution_count": 5,
     "metadata": {},
     "output_type": "execute_result"
    }
   ],
   "source": [
    "# Based on inspection of the unique journals, the articles are dropped due to variation on whether these have been included.\n",
    "# Replacements concerning certain abbreviations are included. \n",
    "df[\"Journal title\"] = df[\"Journal title\"].str.replace(\"J \", \"JOURNAL \")\n",
    "df[\"Journal title\"] = df[\"Journal title\"].str.replace(\"JNL\", \"JOURNAL \")\n",
    "df[\"Journal title\"] = df[\"Journal title\"].str.replace(\"PLOSONE\", \"PLOS ONE\")\n",
    "df[\"Journal title\"] = df[\"Journal title\"].str.replace(\" OF \", \" \")\n",
    "df[\"Journal title\"] = df[\"Journal title\"].str.replace(\" THE \", \" \")\n",
    "df[\"Journal title\"] = df[\"Journal title\"].str.replace(\" IN \", \" \")\n",
    "df[\"Journal title\"] = df[\"Journal title\"].str.replace(\" AND \", \" \")\n",
    "df[\"Journal title\"] = df[\"Journal title\"].str.replace(\" & \", \" \")\n",
    "\n",
    "df[\"Journal title\"] = df[\"Journal title\"].str.replace(\" FOR \", \" \")\n",
    "df[\"Journal title\"] = df[\"Journal title\"].str.replace(\"^THE \", \" \")\n",
    "df[\"Journal title\"] = df[\"Journal title\"].str.replace(\"  \", \" \")\n",
    "df[\"Journal title\"] = df[\"Journal title\"].str.replace('NUCLEIC ACID RESEARCH', 'NUCLEIC ACIDS RESEARCH') \n",
    "df[\"Journal title\"] = df[\"Journal title\"].str.replace('UNITED STATES AMERICA', \"USA\")\n",
    "df[\"Journal title\"] = df[\"Journal title\"].str.replace(\"INT \", \"INTERNATIONAL \")\n",
    "df[\"Journal title\"] = df[\"Journal title\"].str.replace(\"MOL \", \"MOLECULAR \")\n",
    "df[\"Journal title\"] = df[\"Journal title\"].str.replace(\"HUM \", \"HUMAN \")\n",
    "df[\"Journal title\"] = df[\"Journal title\"].str.replace(\"BIOL \", \"BIOLOGY \")\n",
    "df[\"Journal title\"] = df[\"Journal title\"].str.replace(\"BIO \", \"BIOLOGY \")\n",
    "df[\"Journal title\"] = df[\"Journal title\"].str.replace(\"SCI \", \"SCIENCE \")\n",
    "df[\"Journal title\"] = df[\"Journal title\"].str.replace(\"PUBLIC LIBRARY SCIENCE\", \"PLOS\")\n",
    "df[\"Journal title\"] = df[\"Journal title\"].str.replace(\"BMJ$\", \"BRITISH MEDICAL JOURNAL \")\n",
    "df[\"Journal title\"] = df[\"Journal title\"].str.replace(\"CHEM \", \"CHEMISTRY \")\n",
    "df[\"Journal title\"] = df[\"Journal title\"].str.replace(\"CHEM$\", \"CHEMISTRY \")\n",
    "df[\"Journal title\"] = df[\"Journal title\"].str.replace(\" ORG \", \" ORGANIC \")\n",
    "\n",
    "df.ix[df[\"Journal title\"].str.match(\".*INT.*AL EPID*\")>0, \"Journal title\"] = \"INTERNATIONAL JOURNAL EPIDEMIOLOGY\"\n",
    "df.ix[df[\"Journal title\"].str.match(\".*NATIONAL ACADEMY SCIENCES.*\")>0, \"Journal title\"] = \"PNAS\"\n",
    "df.ix[df[\"Journal title\"].str.match(\".*NAT.* ACA.*\")>0, \"Journal title\"] = \"PNAS\"\n",
    "df.ix[df[\"Journal title\"].str.match(\".*PNAS.*\")>0, \"Journal title\"] = \"PNAS\"\n",
    "\n",
    "df.ix[df[\"Journal title\"].str.match(\".*TROPICAL DIS.*\")>0, \"Journal title\"] = \"PLOS NEGLECTED TROPICAL DISEASE\"\n",
    "df.ix[df[\"Journal title\"].str.match(\"HUMAN.*GEN.*\")>0, \"Journal title\"] = \"HUMAN MOLECULAR GENETICS\"\n",
    "df.ix[df[\"Journal title\"].str.match(\"NEUROLMAGE*\")>0, \"Journal title\"] = \"NEUROIMAGE\"\n",
    "\n",
    "\n",
    "# Remove spaces ON ENDS\n",
    "df[\"Journal title\"] = df[\"Journal title\"].str.strip()\n",
    "\n",
    "df[\"Journal title\"].value_counts()"
   ]
  },
  {
   "cell_type": "code",
   "execution_count": 6,
   "metadata": {
    "collapsed": false,
    "deletable": true,
    "editable": true
   },
   "outputs": [
    {
     "data": {
      "text/plain": [
       "828"
      ]
     },
     "execution_count": 6,
     "metadata": {},
     "output_type": "execute_result"
    }
   ],
   "source": [
    "len(df[\"Journal title\"].unique())"
   ]
  },
  {
   "cell_type": "markdown",
   "metadata": {},
   "source": [
    "By making a few select changes, we have reduced the number of journal titles by nearly 16%. "
   ]
  },
  {
   "cell_type": "markdown",
   "metadata": {},
   "source": [
    "The five most popular journals are PLOS One with 201 articles, Journal of Biological Chemistry with 64 articles, PNAS with 39 articles, Neuroimage with 31 articles, and Nucleic Acids Research with 29 articles. "
   ]
  },
  {
   "cell_type": "code",
   "execution_count": 7,
   "metadata": {
    "collapsed": false
   },
   "outputs": [
    {
     "data": {
      "text/plain": [
       "PLOS ONE                                                        201\n",
       "JOURNAL BIOLOGICAL CHEMISTRY                                     64\n",
       "PNAS                                                             40\n",
       "NEUROIMAGE                                                       31\n",
       "NUCLEIC ACIDS RESEARCH                                           29\n",
       "PLOS PATHOGENS                                                   24\n",
       "PLOS GENETICS                                                    24\n",
       "PLOS NEGLECTED TROPICAL DISEASE                                  23\n",
       "HUMAN MOLECULAR GENETICS                                         21\n",
       "NATURE COMMUNICATIONS                                            19\n",
       "BMC PUBLIC HEALTH                                                15\n",
       "JOURNAL NEUROSCIENCE                                             15\n",
       "BRAIN                                                            14\n",
       "BIOCHEMICAL JOURNAL                                              14\n",
       "MOVEMENT DISORDERS                                               13\n",
       "BRITISH MEDICAL JOURNAL                                          12\n",
       "DEVELOPMENTAL CELL                                               12\n",
       "CURRENT BIOLOGY                                                  11\n",
       "FASEB JOURNAL                                                    11\n",
       "JOURNAL GENERAL VIROLOGY                                         11\n",
       "MALARIA JOURNAL                                                  10\n",
       "PLOS COMPUTATIONAL BIOLOGY                                       10\n",
       "JOURNAL PHYSIOLOGY                                                9\n",
       "CELL REPORTS                                                      9\n",
       "DEVELOPMENT                                                       9\n",
       "EMBO JOURNAL                                                      9\n",
       "AMERICAN JOURNAL HUMAN GENETICS                                   9\n",
       "NEURON                                                            9\n",
       "JOURNAL VIROLOGY                                                  9\n",
       "BMJOURNAL OPEN                                                    9\n",
       "                                                               ... \n",
       "AGEING SOCIETY                                                    1\n",
       "JOURNAL ACQUIRED IMMUNE DEFICIENCY SYNDROMES                      1\n",
       "ACTA CRYSTALLOGRAPHICA SECTION D: BIOLOGICAL CRYSTALLOGRAPHY      1\n",
       "PROTEIN EXPR PURIF.                                               1\n",
       "OXFORD JOURNALS                                                   1\n",
       "FRONTIERS                                                         1\n",
       "EXPERIMENTAL EYE RESEARCH                                         1\n",
       "PULMONARY PHARMACOLOGY THERAPEUTICS                               1\n",
       "STEM CELLS DEVELOPMENT                                            1\n",
       "BIOMACROMOLECULES                                                 1\n",
       "CENTAURUS                                                         1\n",
       "JOURNAL ANTHROPOLOGICAL ARCHAEOLOGY                               1\n",
       "EXPERIMENTAL CELL RESEARCH                                        1\n",
       "DEVELOPMENT GENES EVOLUTION                                       1\n",
       "ACTA CRYSTALLOGRAPHY D                                            1\n",
       "INTERNATIONAL HEALTH                                              1\n",
       "TROPICAL ANIMAL HEALTH PRODUCTION                                 1\n",
       "MEDICAL ANTHROPOLOGY                                              1\n",
       "HERNIA                                                            1\n",
       "MOLECULAR GENETICS GENOMIC MEDICINE                               1\n",
       "AM JOURNAL TROP MED HYG                                           1\n",
       "CELL TISSUE RESEARCH                                              1\n",
       "VASCULAR PHARMACOLOGY                                             1\n",
       "N BIOTECHNOL.                                                     1\n",
       "CURRENT OPINION MICROBIOLOGY                                      1\n",
       "SGM OPEN OPTION                                                   1\n",
       "JOURNAL STEROID BIOCHEMISTRY MOLECULAR BIOLOGY                    1\n",
       "MOLECULAR PHYLOGENETICS EVOLUTION                                 1\n",
       "FUNGAL BIOLOGY                                                    1\n",
       "ENVIRONMENT PLANNING A                                            1\n",
       "Name: Journal title, dtype: int64"
      ]
     },
     "execution_count": 7,
     "metadata": {},
     "output_type": "execute_result"
    }
   ],
   "source": [
    "df[\"Journal title\"].value_counts()"
   ]
  },
  {
   "cell_type": "markdown",
   "metadata": {},
   "source": [
    "Find the statistics including mean, median, and standard deviation of the cost of each of the top five journals below. "
   ]
  },
  {
   "cell_type": "code",
   "execution_count": 8,
   "metadata": {
    "collapsed": false
   },
   "outputs": [],
   "source": [
    "df_stats = df['COST'].groupby(df['Journal title']).describe()"
   ]
  },
  {
   "cell_type": "code",
   "execution_count": 9,
   "metadata": {
    "collapsed": false
   },
   "outputs": [
    {
     "name": "stdout",
     "output_type": "stream",
     "text": [
      "\n",
      " PLOS ONE: \n",
      "\n",
      " count       201.000000\n",
      "mean      41649.768060\n",
      "std      196068.801781\n",
      "min         122.310000\n",
      "25%         850.880000\n",
      "50%         897.190000\n",
      "75%        1044.730000\n",
      "max      999999.000000\n",
      "Name: COST, dtype: float64\n",
      "\n",
      "\n",
      " JOURNAL BIOLOGICAL CHEMISTRY: \n",
      "\n",
      " count        64.000000\n",
      "mean      32592.024063\n",
      "std      175125.433955\n",
      "min         265.670000\n",
      "25%        1152.190000\n",
      "50%        1313.130000\n",
      "75%        1602.602500\n",
      "max      999999.000000\n",
      "Name: COST, dtype: float64\n",
      "\n",
      "\n",
      " PNAS: \n",
      "\n",
      " count        40.000000\n",
      "mean      25818.861250\n",
      "std      157981.566997\n",
      "min         206.320000\n",
      "25%         644.935000\n",
      "50%         742.920000\n",
      "75%         836.727500\n",
      "max      999999.000000\n",
      "Name: COST, dtype: float64\n",
      "\n",
      "\n",
      " NEUROIMAGE: \n",
      "\n",
      " count      31.000000\n",
      "mean     2212.181290\n",
      "std       273.193244\n",
      "min      1747.160000\n",
      "25%      2030.895000\n",
      "50%      2326.430000\n",
      "75%      2408.680000\n",
      "max      2518.230000\n",
      "Name: COST, dtype: float64\n",
      "\n",
      "\n",
      " NUCLEIC ACIDS RESEARCH: \n",
      "\n",
      " count      29.000000\n",
      "mean     1162.344828\n",
      "std       442.150934\n",
      "min       710.000000\n",
      "25%       852.000000\n",
      "50%       852.000000\n",
      "75%      1704.000000\n",
      "max      2184.000000\n",
      "Name: COST, dtype: float64\n"
     ]
    }
   ],
   "source": [
    "print(\"\\n PLOS ONE: \\n\\n\", df_stats[\"PLOS ONE\"])\n",
    "print(\"\\n\\n JOURNAL BIOLOGICAL CHEMISTRY: \\n\\n\", df_stats[\"JOURNAL BIOLOGICAL CHEMISTRY\"])\n",
    "print(\"\\n\\n PNAS: \\n\\n\", df_stats[\"PNAS\"])\n",
    "print(\"\\n\\n NEUROIMAGE: \\n\\n\", df_stats[\"NEUROIMAGE\"])\n",
    "print(\"\\n\\n NUCLEIC ACIDS RESEARCH: \\n\\n\", df_stats[\"NUCLEIC ACIDS RESEARCH\"])"
   ]
  }
 ],
 "metadata": {
  "kernelspec": {
   "display_name": "Python 3",
   "language": "python",
   "name": "python3"
  },
  "language_info": {
   "codemirror_mode": {
    "name": "ipython",
    "version": 3
   },
   "file_extension": ".py",
   "mimetype": "text/x-python",
   "name": "python",
   "nbconvert_exporter": "python",
   "pygments_lexer": "ipython3",
   "version": "3.5.2"
  }
 },
 "nbformat": 4,
 "nbformat_minor": 2
}
